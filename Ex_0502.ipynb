{
  "nbformat": 4,
  "nbformat_minor": 0,
  "metadata": {
    "colab": {
      "provenance": [],
      "authorship_tag": "ABX9TyOpT9mgcWo+zC47iRDwqUK3",
      "include_colab_link": true
    },
    "kernelspec": {
      "name": "python3",
      "display_name": "Python 3"
    },
    "language_info": {
      "name": "python"
    }
  },
  "cells": [
    {
      "cell_type": "markdown",
      "metadata": {
        "id": "view-in-github",
        "colab_type": "text"
      },
      "source": [
        "<a href=\"https://colab.research.google.com/github/truonganhtuan2002/Colab/blob/main/Ex_0502.ipynb\" target=\"_parent\"><img src=\"https://colab.research.google.com/assets/colab-badge.svg\" alt=\"Open In Colab\"/></a>"
      ]
    },
    {
      "cell_type": "code",
      "execution_count": null,
      "metadata": {
        "id": "ER8KaTXDCYbg"
      },
      "outputs": [],
      "source": [
        "import re\n",
        "import os"
      ]
    },
    {
      "cell_type": "code",
      "source": [
        "# Kết nối tới Google Drive\n",
        "from google.colab import drive\n",
        "drive.mount('/content/drive')\n"
      ],
      "metadata": {
        "colab": {
          "base_uri": "https://localhost:8080/"
        },
        "id": "ouYDjPZyEhAw",
        "outputId": "98cd226d-e00d-410a-8a8a-eeb4225b842c"
      },
      "execution_count": null,
      "outputs": [
        {
          "output_type": "stream",
          "name": "stdout",
          "text": [
            "Drive already mounted at /content/drive; to attempt to forcibly remount, call drive.mount(\"/content/drive\", force_remount=True).\n"
          ]
        }
      ]
    },
    {
      "cell_type": "code",
      "source": [
        "# Đọc nội dung của sách từ Google Drive\n",
        "f = open(\"/content/drive/MyDrive/Colab/data.txt\",'r',encoding='UTF8')\n",
        "book = f.readlines()\n",
        "f.close()\n"
      ],
      "metadata": {
        "id": "bsNulQtjFNA4"
      },
      "execution_count": null,
      "outputs": []
    },
    {
      "cell_type": "code",
      "source": [
        "# Hàm trả về các chuỗi có mẫu khớp.\n",
        "# Mẫu được nhập dưới dạng biểu thức chính quy.\n",
        "def grep(reg_exp, my_text):\n",
        "    result = []\n",
        "    reg_exp_compiled = re.compile(reg_exp)\n",
        "    for i in range(len(my_text)):\n",
        "        if reg_exp_compiled.search(my_text[i]):\n",
        "            result.append(my_text[i])\n",
        "    return result"
      ],
      "metadata": {
        "id": "yY74HkLQFh6Q"
      },
      "execution_count": null,
      "outputs": []
    },
    {
      "cell_type": "code",
      "source": [
        "grep('yêu', ['tôi yêu bạn', 'tôi ghét bạn', 'tôi thích bạn'])"
      ],
      "metadata": {
        "colab": {
          "base_uri": "https://localhost:8080/"
        },
        "id": "QtSun-hDF3BV",
        "outputId": "3b339bdd-08a1-4f90-a37e-9d224f02c9db"
      },
      "execution_count": null,
      "outputs": [
        {
          "output_type": "execute_result",
          "data": {
            "text/plain": [
              "['tôi yêu bạn']"
            ]
          },
          "metadata": {},
          "execution_count": 9
        }
      ]
    },
    {
      "cell_type": "code",
      "source": [
        "grep(\"^[0-9]\", [\"10000 đồng!\", \"năm nay là 2024\", \"tôi 22 tuổi\"])"
      ],
      "metadata": {
        "colab": {
          "base_uri": "https://localhost:8080/"
        },
        "id": "ZjqFXzNjG4o4",
        "outputId": "cf129de0-d3d7-4d56-bc78-855f42dcf44c"
      },
      "execution_count": null,
      "outputs": [
        {
          "output_type": "execute_result",
          "data": {
            "text/plain": [
              "['10000 đồng!']"
            ]
          },
          "metadata": {},
          "execution_count": 10
        }
      ]
    },
    {
      "cell_type": "code",
      "source": [
        "grep(\"o{2}.\", [\"Cái xoong\", \"cái bát\", \"aa bb\"])"
      ],
      "metadata": {
        "colab": {
          "base_uri": "https://localhost:8080/"
        },
        "id": "ZMfwmCHDJI4O",
        "outputId": "9e18686c-083e-45fd-a77b-d3fc6591d270"
      },
      "execution_count": null,
      "outputs": [
        {
          "output_type": "execute_result",
          "data": {
            "text/plain": [
              "['Cái xoong']"
            ]
          },
          "metadata": {},
          "execution_count": 12
        }
      ]
    },
    {
      "cell_type": "code",
      "source": [
        "book = [\n",
        "    'Đây là trong sự do dự, hướng về cây cầu K.\\n',\n",
        "    'luôn luôn mở. Và mỗi lần anh ta đi qua, người thanh niên lại\\n',\n",
        "    'đắm chìm trong suy nghĩ sâu sắc, hoặc nói chính xác hơn là trong sự trống rỗng hoàn toàn.\\n',\n",
        "    'mặc dù tất cả sự khó tính của tuổi trẻ, anh ta ít quan tâm đến bộ quần áo rách rưới của mình nhất\\n',\n",
        "    'trong bóng tối như vậy, ngay cả những đôi mắt tò mò nhất cũng không đáng sợ.\\n',\n",
        "    'Điều này thực sự sẽ làm được sao?” anh không thể không tự hỏi mình khi\\n',\n",
        "    'tiếng kêu đặc biệt của nó dường như nhắc nhở anh về điều gì đó và mang lại\\n',\n",
        "    'Kết thúc.\\n',\n",
        "    'giống như một cái tủ hơn là một căn phòng. Người chủ nhà cung cấp cho anh ta gác xép,\\n',\n",
        "    'phá hủy toàn bộ kế hoạch. Đúng vậy, chiếc mũ của tôi quá dễ thấy.... Trông thật vô lý\\n',\n",
        "    'một chiếc mũ, nó sẽ bị chú ý từ xa cả dặm, nó sẽ được nhớ đến.... Cái gì\\n',\n",
        "    'nhưng sự táo bạo liều lĩnh. Bây giờ, một tháng sau, anh bắt đầu coi nó\\n',\n",
        "    'đường phố. Ngôi nhà này được cho thuê thành những căn hộ nhỏ và có người ở\\n',\n",
        "    'tòa nhà. Người thanh niên rất vui vì không gặp ai trong số họ, và\\n',\n",
        "    'khát khao cháy bỏng. Anh ta khao khát một ly bia lạnh, và cho rằng đó là\\n',\n",
        "    'bia, một miếng bánh mì khô – và trong một khoảnh khắc bộ não mạnh mẽ hơn,\\n',\n",
        "    'một bộ râu xám, trong một chiếc áo choàng ngắn đầy đủ. Anh ta rất say: và đã\\n',\n",
        "    'một phần cơ thể anh ta nảy lên trên băng ghế, trong khi anh ta ngân nga một số\\n',\n",
        "    'trên quầy có vài lát dưa chuột, vài miếng bánh mì đen khô và\\n',\n",
        "    'không có râu, cũng không có ria mép, nhưng đã lâu không cạo râu đến mức cằm của anh ta\\n',\n",
        "    'kết hợp với những tình cảm chân thật, và ngoài ra tôi còn là một danh nghĩa\\n',\n",
        "    'Anh ta đứng dậy, loạng choạng, cầm lấy cái bình và cái ly, rồi ngồi xuống bên cạnh\\n',\n",
        "    'quán rượu. Thói quen này trở thành một nhu cầu ở một số kẻ nghiện rượu, và\\n',\n",
        "    'trái tim cao quý, đầy tình cảm, được giáo dục tinh tế. Tuy nhiên... ôi,\\n',\n",
        "    'mùa đông và đã bắt đầu ho ra máu. Chúng tôi có ba\\n',\n",
        "    'chỉ có bánh mì đen để ăn, nhưng sẽ không cho phép mình được điều trị\\n',\n",
        "    'Có rất nhiều người sống ở đó ngoài bản thân chúng tôi. Bẩn thỉu và\\n',\n",
        "    'khi cô ấy nói, nhưng bị căn bệnh của mình và tiếng khóc hành hạ đến mức mất trí\\n',\n",
        "    'phòng, hay đúng hơn là tủ, nơi ở của Amalia Lippevechsel\\n',\n",
        "    'những đám khói thuốc lá bay vào, cô ấy vẫn ho, nhưng không\\n',\n",
        "    'cửa, nhưng khuỵu gối ngay trước cửa, đẩy Raskolnikov\\n',\n",
        "    'với sự căm thù căn phòng của mình. Đó là một căn phòng nhỏ như cái tủ khoảng sáu\\n',\n",
        "    'ngồi xuống bên cạnh anh trên ghế sofa và bắt đầu trò chuyện. Cô ấy là một người đồng quê\\n',\n",
        "    '“Đừng cãi nhau với miếng bánh mì và bơ của bạn.”\\n',\n",
        "    'làm? Và, ngoài ra, tôi lúc đó cũng không biết toàn bộ sự thật. Cái gì\\n',\n",
        "    'dụ dỗ và đề nghị, ngoài ra, từ bỏ mọi thứ và đưa cô ấy\\n',\n",
        "    'đến một điền trang khác của anh ta, hoặc thậm chí ra nước ngoài. Bạn có thể tưởng tượng tất cả những gì cô ấy đã trải qua\\n',\n",
        "    'bản thân bạn, và ngoài ra, Dounia sẽ không cho phép; và điền vào bức thư của tôi\\n',\n",
        "    'chúng tôi. Tất cả những người quen của chúng tôi đều tránh chúng tôi, không ai thậm chí cúi đầu chào chúng tôi trên\\n',\n",
        "    'phải thừa nhận rằng vấn đề đã được sắp xếp rất vội vàng. Ngoài ra anh ấy\\n',\n",
        "    'nhớ ý nghĩa. Và, ngoài ra, rõ ràng là nó không được nói có chủ đích,\\n',\n",
        "    'miễn là tôi có một mẩu bánh mì của riêng mình và những đứa trẻ như bạn và\\n',\n",
        "    'sự không chung thủy đang lan tràn ngày nay; Nếu đúng như vậy, tôi cầu nguyện cho bạn. Nhớ lại,\\n',\n",
        "    'giống như một cái tủ hoặc một cái hộp. Đôi mắt và tâm trí của anh ta khao khát không gian. Anh ta\\n',\n",
        "    'thêu viền tay áo, làm hỏng đôi mắt già của cô ấy. Và tất cả những chiếc khăn choàng của cô ấy không thêm\\n',\n",
        "    'điều đó. Vì vậy, cô ấy luôn đặt mọi hy vọng vào ông Luzhin\\n',\n",
        "    'cô ấy sẽ phải sống với người đàn ông đó. Tại sao! cô ấy sẽ sống bằng bánh mì đen\\n',\n",
        "    'họ? Trong mười năm nữa? Trong mười năm nữa, mẹ sẽ bị mù\\n',\n",
        "    'trở lại, anh ta đang mong đợi điều đó; ngoài ra, nó không chỉ là của ngày hôm qua\\n',\n",
        "    'không có ô hay găng tay, vung tay một cách ngớ ngẩn. Cô ấy đã\\n',\n",
        "    'người đàn ông, khoảng ba mươi, ăn mặc thời trang, với màu da cao, môi đỏ và\\n',\n",
        "    'copecks, “này, gọi một chiếc taxi và bảo anh ta chở cô ấy đến địa chỉ của cô ấy. Các\\n',\n",
        "    'bạn một chiếc taxi và tự mình đưa bạn về nhà. Tôi sẽ đưa bạn đến đâu, hả? Bạn sẽ đi đâu\\n',\n",
        "    'kiếm được? Đó không phải là điều tôi muốn bây giờ. Thực sự vô lý khi tôi phải đi\\n',\n",
        "    'trong cái lỗ đó, trong cái tủ kinh khủng nhỏ bé của anh ta, tất cả _điều này_ đã dành cho\\n',\n",
        "    'trầm ngâm. Khi giật mình ngẩng đầu lên và nhìn xung quanh,\\n',\n",
        "    'là một ngày xám xịt và nặng nề, đất nước giống hệt như anh nhớ;\\n',\n",
        "    'cúi xuống hôn mộ nhỏ. Và bây giờ anh ta mơ rằng anh ta đã\\n',\n",
        "    'Tất cả bọn họ đều trèo lên xe của Mikolka, cười đùa và đùa giỡn. Sáu\\n',\n",
        "    'cô ấy đến chết!” Và anh ta quất vào con ngựa cái, bên cạnh bản thân mình\\n',\n",
        "    'anh ta đi, nhưng anh ta đã giằng ra khỏi tay anh ta, và bên cạnh bản thân mình\\n',\n",
        "    '... Anh ta chạy bên cạnh con ngựa cái, chạy trước mặt nó, nhìn nó bị đánh\\n',\n",
        "    'lao về phía ông già tóc bạc râu bạc, người đang\\n',\n",
        "    'vung nó qua con ngựa cái.\\n',\n",
        "    '“Kết liễu cô ấy đi,” Mikolka hét lên và anh ta nhảy bên cạnh mình, ra khỏi\\n',\n",
        "    '“Tài sản của tôi!” Mikolka hét lên, với đôi mắt đỏ ngầu, vung thanh sắt\\n',\n",
        "    'Nhưng cậu bé tội nghiệp, bên cạnh mình, đã len lỏi qua đám đông la hét đến với\\n',\n",
        "    'đám đông với con ngựa khoang nâu đỏ, đặt vòng tay ôm lấy cái đầu đầy máu của nó và\\n',\n",
        "    'sẽ giẫm lên máu ấm, phá khóa, trộm và run rẩy;\\n',\n",
        "    'trốn, tất cả vấy máu... với cái rìu.... Lạy Chúa, có thể không\\n',\n",
        "    '“Bằng lời của tôi, bạn sợ Alyona Ivanovna đến mức nào,” cô ấy nói nhảm\\n',\n",
        "    'nhớ địa chỉ; anh ta có hai món đồ có thể cầm cố được: cái của anh ta\\n',\n",
        "    'Gần như bên cạnh anh ta ở bàn bên cạnh có một sinh viên đang ngồi, người mà anh ta\\n',\n",
        "    'ngày đêm vì chị gái, và ngoài việc nấu ăn và\\n',\n",
        "    'vô dụng nhưng lại làm điều vô ích, không có ý tưởng gì về những gì cô ấy\\n',\n",
        "    'đang trải qua.\\n'\n",
        "]\n"
      ],
      "metadata": {
        "id": "huZ-DsejJ3F2"
      },
      "execution_count": null,
      "outputs": []
    },
    {
      "cell_type": "code",
      "source": [
        "grep(\"^Đây\",book)            # Sentences that begin with \"This\""
      ],
      "metadata": {
        "colab": {
          "base_uri": "https://localhost:8080/"
        },
        "id": "S5iUxckBLoGN",
        "outputId": "f10167e1-e391-484d-e4e4-c02d64a7805f"
      },
      "execution_count": null,
      "outputs": [
        {
          "output_type": "execute_result",
          "data": {
            "text/plain": [
              "['Đây là trong sự do dự, hướng về cây cầu K.\\n']"
            ]
          },
          "metadata": {},
          "execution_count": 15
        }
      ]
    },
    {
      "cell_type": "code",
      "source": [
        "grep(\"mình$\",book)          # Sentences that end with \"end.\""
      ],
      "metadata": {
        "colab": {
          "base_uri": "https://localhost:8080/"
        },
        "id": "ATEoxsk3LoI-",
        "outputId": "e3c2bb9a-dcf8-455a-bb75-0aa9440898ec"
      },
      "execution_count": null,
      "outputs": [
        {
          "output_type": "execute_result",
          "data": {
            "text/plain": [
              "['cô ấy đến chết!” Và anh ta quất vào con ngựa cái, bên cạnh bản thân mình\\n',\n",
              " 'anh ta đi, nhưng anh ta đã giằng ra khỏi tay anh ta, và bên cạnh bản thân mình\\n']"
            ]
          },
          "metadata": {},
          "execution_count": 21
        }
      ]
    },
    {
      "cell_type": "code",
      "source": [
        "grep(\"^[Tt]\",book)            # Sentences that begin with 'I' or 'i'"
      ],
      "metadata": {
        "colab": {
          "base_uri": "https://localhost:8080/"
        },
        "id": "D_q7d5tZLoP-",
        "outputId": "4f8314c0-88f9-4230-d0f8-698904572c1f"
      },
      "execution_count": null,
      "outputs": [
        {
          "output_type": "execute_result",
          "data": {
            "text/plain": [
              "['trong bóng tối như vậy, ngay cả những đôi mắt tò mò nhất cũng không đáng sợ.\\n',\n",
              " 'tiếng kêu đặc biệt của nó dường như nhắc nhở anh về điều gì đó và mang lại\\n',\n",
              " 'tòa nhà. Người thanh niên rất vui vì không gặp ai trong số họ, và\\n',\n",
              " 'trên quầy có vài lát dưa chuột, vài miếng bánh mì đen khô và\\n',\n",
              " 'trái tim cao quý, đầy tình cảm, được giáo dục tinh tế. Tuy nhiên... ôi,\\n',\n",
              " 'thêu viền tay áo, làm hỏng đôi mắt già của cô ấy. Và tất cả những chiếc khăn choàng của cô ấy không thêm\\n',\n",
              " 'trở lại, anh ta đang mong đợi điều đó; ngoài ra, nó không chỉ là của ngày hôm qua\\n',\n",
              " 'trong cái lỗ đó, trong cái tủ kinh khủng nhỏ bé của anh ta, tất cả _điều này_ đã dành cho\\n',\n",
              " 'trầm ngâm. Khi giật mình ngẩng đầu lên và nhìn xung quanh,\\n',\n",
              " 'Tất cả bọn họ đều trèo lên xe của Mikolka, cười đùa và đùa giỡn. Sáu\\n',\n",
              " 'trốn, tất cả vấy máu... với cái rìu.... Lạy Chúa, có thể không\\n']"
            ]
          },
          "metadata": {},
          "execution_count": 22
        }
      ]
    },
    {
      "cell_type": "code",
      "source": [
        "grep(\"^[0-9]\",book)           # Sentences that begin with a number."
      ],
      "metadata": {
        "colab": {
          "base_uri": "https://localhost:8080/"
        },
        "id": "BNZ_9szINKa-",
        "outputId": "3d22dcfa-c7a9-4cc8-cfee-600fb3c3f740"
      },
      "execution_count": null,
      "outputs": [
        {
          "output_type": "execute_result",
          "data": {
            "text/plain": [
              "[]"
            ]
          },
          "metadata": {},
          "execution_count": 23
        }
      ]
    },
    {
      "cell_type": "code",
      "source": [
        "grep(\"b.d\",book)"
      ],
      "metadata": {
        "colab": {
          "base_uri": "https://localhost:8080/"
        },
        "id": "Ie3TdtpONTG8",
        "outputId": "a3611530-7540-4b83-f8f1-872797890848"
      },
      "execution_count": null,
      "outputs": [
        {
          "output_type": "execute_result",
          "data": {
            "text/plain": [
              "[]"
            ]
          },
          "metadata": {},
          "execution_count": 24
        }
      ]
    },
    {
      "cell_type": "code",
      "source": [
        "grep(\"a.h\",book)"
      ],
      "metadata": {
        "colab": {
          "base_uri": "https://localhost:8080/"
        },
        "id": "NYwSqkBiOfME",
        "outputId": "f0b4f6eb-2bd7-4ca6-9143-8e670c8d1071"
      },
      "execution_count": null,
      "outputs": [
        {
          "output_type": "execute_result",
          "data": {
            "text/plain": [
              "['luôn luôn mở. Và mỗi lần anh ta đi qua, người thanh niên lại\\n',\n",
              " 'mặc dù tất cả sự khó tính của tuổi trẻ, anh ta ít quan tâm đến bộ quần áo rách rưới của mình nhất\\n',\n",
              " 'Điều này thực sự sẽ làm được sao?” anh không thể không tự hỏi mình khi\\n',\n",
              " 'tiếng kêu đặc biệt của nó dường như nhắc nhở anh về điều gì đó và mang lại\\n',\n",
              " 'giống như một cái tủ hơn là một căn phòng. Người chủ nhà cung cấp cho anh ta gác xép,\\n',\n",
              " 'nhưng sự táo bạo liều lĩnh. Bây giờ, một tháng sau, anh bắt đầu coi nó\\n',\n",
              " 'tòa nhà. Người thanh niên rất vui vì không gặp ai trong số họ, và\\n',\n",
              " 'một phần cơ thể anh ta nảy lên trên băng ghế, trong khi anh ta ngân nga một số\\n',\n",
              " 'không có râu, cũng không có ria mép, nhưng đã lâu không cạo râu đến mức cằm của anh ta\\n',\n",
              " 'kết hợp với những tình cảm chân thật, và ngoài ra tôi còn là một danh nghĩa\\n',\n",
              " 'ngồi xuống bên cạnh anh trên ghế sofa và bắt đầu trò chuyện. Cô ấy là một người đồng quê\\n',\n",
              " 'đến một điền trang khác của anh ta, hoặc thậm chí ra nước ngoài. Bạn có thể tưởng tượng tất cả những gì cô ấy đã trải qua\\n',\n",
              " 'phải thừa nhận rằng vấn đề đã được sắp xếp rất vội vàng. Ngoài ra anh ấy\\n',\n",
              " 'giống như một cái tủ hoặc một cái hộp. Đôi mắt và tâm trí của anh ta khao khát không gian. Anh ta\\n',\n",
              " 'trở lại, anh ta đang mong đợi điều đó; ngoài ra, nó không chỉ là của ngày hôm qua\\n',\n",
              " 'copecks, “này, gọi một chiếc taxi và bảo anh ta chở cô ấy đến địa chỉ của cô ấy. Các\\n',\n",
              " 'trong cái lỗ đó, trong cái tủ kinh khủng nhỏ bé của anh ta, tất cả _điều này_ đã dành cho\\n',\n",
              " 'trầm ngâm. Khi giật mình ngẩng đầu lên và nhìn xung quanh,\\n',\n",
              " 'là một ngày xám xịt và nặng nề, đất nước giống hệt như anh nhớ;\\n',\n",
              " 'cúi xuống hôn mộ nhỏ. Và bây giờ anh ta mơ rằng anh ta đã\\n',\n",
              " 'cô ấy đến chết!” Và anh ta quất vào con ngựa cái, bên cạnh bản thân mình\\n',\n",
              " 'anh ta đi, nhưng anh ta đã giằng ra khỏi tay anh ta, và bên cạnh bản thân mình\\n',\n",
              " '“Kết liễu cô ấy đi,” Mikolka hét lên và anh ta nhảy bên cạnh mình, ra khỏi\\n',\n",
              " '“Tài sản của tôi!” Mikolka hét lên, với đôi mắt đỏ ngầu, vung thanh sắt\\n',\n",
              " 'Nhưng cậu bé tội nghiệp, bên cạnh mình, đã len lỏi qua đám đông la hét đến với\\n',\n",
              " 'nhớ địa chỉ; anh ta có hai món đồ có thể cầm cố được: cái của anh ta\\n',\n",
              " 'Gần như bên cạnh anh ta ở bàn bên cạnh có một sinh viên đang ngồi, người mà anh ta\\n']"
            ]
          },
          "metadata": {},
          "execution_count": 25
        }
      ]
    },
    {
      "cell_type": "code",
      "source": [
        "grep(\"k?ng\",book)"
      ],
      "metadata": {
        "colab": {
          "base_uri": "https://localhost:8080/"
        },
        "id": "BPCy-V0vOisM",
        "outputId": "732b3642-0f71-4569-fdf2-2edf8bb83e8e"
      },
      "execution_count": null,
      "outputs": [
        {
          "output_type": "execute_result",
          "data": {
            "text/plain": [
              "['Đây là trong sự do dự, hướng về cây cầu K.\\n',\n",
              " 'luôn luôn mở. Và mỗi lần anh ta đi qua, người thanh niên lại\\n',\n",
              " 'đắm chìm trong suy nghĩ sâu sắc, hoặc nói chính xác hơn là trong sự trống rỗng hoàn toàn.\\n',\n",
              " 'trong bóng tối như vậy, ngay cả những đôi mắt tò mò nhất cũng không đáng sợ.\\n',\n",
              " 'Điều này thực sự sẽ làm được sao?” anh không thể không tự hỏi mình khi\\n',\n",
              " 'tiếng kêu đặc biệt của nó dường như nhắc nhở anh về điều gì đó và mang lại\\n',\n",
              " 'giống như một cái tủ hơn là một căn phòng. Người chủ nhà cung cấp cho anh ta gác xép,\\n',\n",
              " 'phá hủy toàn bộ kế hoạch. Đúng vậy, chiếc mũ của tôi quá dễ thấy.... Trông thật vô lý\\n',\n",
              " 'nhưng sự táo bạo liều lĩnh. Bây giờ, một tháng sau, anh bắt đầu coi nó\\n',\n",
              " 'đường phố. Ngôi nhà này được cho thuê thành những căn hộ nhỏ và có người ở\\n',\n",
              " 'tòa nhà. Người thanh niên rất vui vì không gặp ai trong số họ, và\\n',\n",
              " 'khát khao cháy bỏng. Anh ta khao khát một ly bia lạnh, và cho rằng đó là\\n',\n",
              " 'bia, một miếng bánh mì khô – và trong một khoảnh khắc bộ não mạnh mẽ hơn,\\n',\n",
              " 'một bộ râu xám, trong một chiếc áo choàng ngắn đầy đủ. Anh ta rất say: và đã\\n',\n",
              " 'một phần cơ thể anh ta nảy lên trên băng ghế, trong khi anh ta ngân nga một số\\n',\n",
              " 'trên quầy có vài lát dưa chuột, vài miếng bánh mì đen khô và\\n',\n",
              " 'không có râu, cũng không có ria mép, nhưng đã lâu không cạo râu đến mức cằm của anh ta\\n',\n",
              " 'kết hợp với những tình cảm chân thật, và ngoài ra tôi còn là một danh nghĩa\\n',\n",
              " 'Anh ta đứng dậy, loạng choạng, cầm lấy cái bình và cái ly, rồi ngồi xuống bên cạnh\\n',\n",
              " 'quán rượu. Thói quen này trở thành một nhu cầu ở một số kẻ nghiện rượu, và\\n',\n",
              " 'mùa đông và đã bắt đầu ho ra máu. Chúng tôi có ba\\n',\n",
              " 'chỉ có bánh mì đen để ăn, nhưng sẽ không cho phép mình được điều trị\\n',\n",
              " 'Có rất nhiều người sống ở đó ngoài bản thân chúng tôi. Bẩn thỉu và\\n',\n",
              " 'khi cô ấy nói, nhưng bị căn bệnh của mình và tiếng khóc hành hạ đến mức mất trí\\n',\n",
              " 'phòng, hay đúng hơn là tủ, nơi ở của Amalia Lippevechsel\\n',\n",
              " 'những đám khói thuốc lá bay vào, cô ấy vẫn ho, nhưng không\\n',\n",
              " 'cửa, nhưng khuỵu gối ngay trước cửa, đẩy Raskolnikov\\n',\n",
              " 'với sự căm thù căn phòng của mình. Đó là một căn phòng nhỏ như cái tủ khoảng sáu\\n',\n",
              " 'ngồi xuống bên cạnh anh trên ghế sofa và bắt đầu trò chuyện. Cô ấy là một người đồng quê\\n',\n",
              " '“Đừng cãi nhau với miếng bánh mì và bơ của bạn.”\\n',\n",
              " 'làm? Và, ngoài ra, tôi lúc đó cũng không biết toàn bộ sự thật. Cái gì\\n',\n",
              " 'dụ dỗ và đề nghị, ngoài ra, từ bỏ mọi thứ và đưa cô ấy\\n',\n",
              " 'đến một điền trang khác của anh ta, hoặc thậm chí ra nước ngoài. Bạn có thể tưởng tượng tất cả những gì cô ấy đã trải qua\\n',\n",
              " 'bản thân bạn, và ngoài ra, Dounia sẽ không cho phép; và điền vào bức thư của tôi\\n',\n",
              " 'chúng tôi. Tất cả những người quen của chúng tôi đều tránh chúng tôi, không ai thậm chí cúi đầu chào chúng tôi trên\\n',\n",
              " 'phải thừa nhận rằng vấn đề đã được sắp xếp rất vội vàng. Ngoài ra anh ấy\\n',\n",
              " 'nhớ ý nghĩa. Và, ngoài ra, rõ ràng là nó không được nói có chủ đích,\\n',\n",
              " 'miễn là tôi có một mẩu bánh mì của riêng mình và những đứa trẻ như bạn và\\n',\n",
              " 'sự không chung thủy đang lan tràn ngày nay; Nếu đúng như vậy, tôi cầu nguyện cho bạn. Nhớ lại,\\n',\n",
              " 'giống như một cái tủ hoặc một cái hộp. Đôi mắt và tâm trí của anh ta khao khát không gian. Anh ta\\n',\n",
              " 'thêu viền tay áo, làm hỏng đôi mắt già của cô ấy. Và tất cả những chiếc khăn choàng của cô ấy không thêm\\n',\n",
              " 'điều đó. Vì vậy, cô ấy luôn đặt mọi hy vọng vào ông Luzhin\\n',\n",
              " 'cô ấy sẽ phải sống với người đàn ông đó. Tại sao! cô ấy sẽ sống bằng bánh mì đen\\n',\n",
              " 'họ? Trong mười năm nữa? Trong mười năm nữa, mẹ sẽ bị mù\\n',\n",
              " 'trở lại, anh ta đang mong đợi điều đó; ngoài ra, nó không chỉ là của ngày hôm qua\\n',\n",
              " 'không có ô hay găng tay, vung tay một cách ngớ ngẩn. Cô ấy đã\\n',\n",
              " 'người đàn ông, khoảng ba mươi, ăn mặc thời trang, với màu da cao, môi đỏ và\\n',\n",
              " 'kiếm được? Đó không phải là điều tôi muốn bây giờ. Thực sự vô lý khi tôi phải đi\\n',\n",
              " 'trong cái lỗ đó, trong cái tủ kinh khủng nhỏ bé của anh ta, tất cả _điều này_ đã dành cho\\n',\n",
              " 'trầm ngâm. Khi giật mình ngẩng đầu lên và nhìn xung quanh,\\n',\n",
              " 'là một ngày xám xịt và nặng nề, đất nước giống hệt như anh nhớ;\\n',\n",
              " 'cúi xuống hôn mộ nhỏ. Và bây giờ anh ta mơ rằng anh ta đã\\n',\n",
              " 'cô ấy đến chết!” Và anh ta quất vào con ngựa cái, bên cạnh bản thân mình\\n',\n",
              " 'anh ta đi, nhưng anh ta đã giằng ra khỏi tay anh ta, và bên cạnh bản thân mình\\n',\n",
              " '... Anh ta chạy bên cạnh con ngựa cái, chạy trước mặt nó, nhìn nó bị đánh\\n',\n",
              " 'lao về phía ông già tóc bạc râu bạc, người đang\\n',\n",
              " 'vung nó qua con ngựa cái.\\n',\n",
              " '“Tài sản của tôi!” Mikolka hét lên, với đôi mắt đỏ ngầu, vung thanh sắt\\n',\n",
              " 'Nhưng cậu bé tội nghiệp, bên cạnh mình, đã len lỏi qua đám đông la hét đến với\\n',\n",
              " 'đám đông với con ngựa khoang nâu đỏ, đặt vòng tay ôm lấy cái đầu đầy máu của nó và\\n',\n",
              " 'trốn, tất cả vấy máu... với cái rìu.... Lạy Chúa, có thể không\\n',\n",
              " '“Bằng lời của tôi, bạn sợ Alyona Ivanovna đến mức nào,” cô ấy nói nhảm\\n',\n",
              " 'Gần như bên cạnh anh ta ở bàn bên cạnh có một sinh viên đang ngồi, người mà anh ta\\n',\n",
              " 'ngày đêm vì chị gái, và ngoài việc nấu ăn và\\n',\n",
              " 'vô dụng nhưng lại làm điều vô ích, không có ý tưởng gì về những gì cô ấy\\n',\n",
              " 'đang trải qua.\\n']"
            ]
          },
          "metadata": {},
          "execution_count": 26
        }
      ]
    },
    {
      "cell_type": "code",
      "source": [
        "grep(\"anh|em\",book)"
      ],
      "metadata": {
        "colab": {
          "base_uri": "https://localhost:8080/"
        },
        "id": "HonMwBIGOi7F",
        "outputId": "5150c881-23f2-457f-8bd4-f9f5e13b08e8"
      },
      "execution_count": null,
      "outputs": [
        {
          "output_type": "execute_result",
          "data": {
            "text/plain": [
              "['luôn luôn mở. Và mỗi lần anh ta đi qua, người thanh niên lại\\n',\n",
              " 'mặc dù tất cả sự khó tính của tuổi trẻ, anh ta ít quan tâm đến bộ quần áo rách rưới của mình nhất\\n',\n",
              " 'Điều này thực sự sẽ làm được sao?” anh không thể không tự hỏi mình khi\\n',\n",
              " 'tiếng kêu đặc biệt của nó dường như nhắc nhở anh về điều gì đó và mang lại\\n',\n",
              " 'giống như một cái tủ hơn là một căn phòng. Người chủ nhà cung cấp cho anh ta gác xép,\\n',\n",
              " 'nhưng sự táo bạo liều lĩnh. Bây giờ, một tháng sau, anh bắt đầu coi nó\\n',\n",
              " 'tòa nhà. Người thanh niên rất vui vì không gặp ai trong số họ, và\\n',\n",
              " 'một phần cơ thể anh ta nảy lên trên băng ghế, trong khi anh ta ngân nga một số\\n',\n",
              " 'không có râu, cũng không có ria mép, nhưng đã lâu không cạo râu đến mức cằm của anh ta\\n',\n",
              " 'kết hợp với những tình cảm chân thật, và ngoài ra tôi còn là một danh nghĩa\\n',\n",
              " 'ngồi xuống bên cạnh anh trên ghế sofa và bắt đầu trò chuyện. Cô ấy là một người đồng quê\\n',\n",
              " 'đến một điền trang khác của anh ta, hoặc thậm chí ra nước ngoài. Bạn có thể tưởng tượng tất cả những gì cô ấy đã trải qua\\n',\n",
              " 'phải thừa nhận rằng vấn đề đã được sắp xếp rất vội vàng. Ngoài ra anh ấy\\n',\n",
              " 'giống như một cái tủ hoặc một cái hộp. Đôi mắt và tâm trí của anh ta khao khát không gian. Anh ta\\n',\n",
              " 'trở lại, anh ta đang mong đợi điều đó; ngoài ra, nó không chỉ là của ngày hôm qua\\n',\n",
              " 'copecks, “này, gọi một chiếc taxi và bảo anh ta chở cô ấy đến địa chỉ của cô ấy. Các\\n',\n",
              " 'trong cái lỗ đó, trong cái tủ kinh khủng nhỏ bé của anh ta, tất cả _điều này_ đã dành cho\\n',\n",
              " 'trầm ngâm. Khi giật mình ngẩng đầu lên và nhìn xung quanh,\\n',\n",
              " 'là một ngày xám xịt và nặng nề, đất nước giống hệt như anh nhớ;\\n',\n",
              " 'cúi xuống hôn mộ nhỏ. Và bây giờ anh ta mơ rằng anh ta đã\\n',\n",
              " 'cô ấy đến chết!” Và anh ta quất vào con ngựa cái, bên cạnh bản thân mình\\n',\n",
              " 'anh ta đi, nhưng anh ta đã giằng ra khỏi tay anh ta, và bên cạnh bản thân mình\\n',\n",
              " '“Kết liễu cô ấy đi,” Mikolka hét lên và anh ta nhảy bên cạnh mình, ra khỏi\\n',\n",
              " '“Tài sản của tôi!” Mikolka hét lên, với đôi mắt đỏ ngầu, vung thanh sắt\\n',\n",
              " 'nhớ địa chỉ; anh ta có hai món đồ có thể cầm cố được: cái của anh ta\\n',\n",
              " 'Gần như bên cạnh anh ta ở bàn bên cạnh có một sinh viên đang ngồi, người mà anh ta\\n']"
            ]
          },
          "metadata": {},
          "execution_count": 27
        }
      ]
    },
    {
      "cell_type": "code",
      "source": [
        "100*len(grep(\"anh|em\",book))/len(book)"
      ],
      "metadata": {
        "colab": {
          "base_uri": "https://localhost:8080/"
        },
        "id": "j3A8iGc3Piwt",
        "outputId": "691ab730-0ac0-4962-9ec2-4cff0f359429"
      },
      "execution_count": null,
      "outputs": [
        {
          "output_type": "execute_result",
          "data": {
            "text/plain": [
              "34.21052631578947"
            ]
          },
          "metadata": {},
          "execution_count": 28
        }
      ]
    }
  ]
}
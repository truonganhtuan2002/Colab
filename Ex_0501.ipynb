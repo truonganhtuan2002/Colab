{
  "nbformat": 4,
  "nbformat_minor": 0,
  "metadata": {
    "colab": {
      "provenance": [],
      "authorship_tag": "ABX9TyMATq+nb+bZAZkZxWrvz/D5",
      "include_colab_link": true
    },
    "kernelspec": {
      "name": "python3",
      "display_name": "Python 3"
    },
    "language_info": {
      "name": "python"
    }
  },
  "cells": [
    {
      "cell_type": "markdown",
      "metadata": {
        "id": "view-in-github",
        "colab_type": "text"
      },
      "source": [
        "<a href=\"https://colab.research.google.com/github/truonganhtuan2002/Colab/blob/main/Ex_0501.ipynb\" target=\"_parent\"><img src=\"https://colab.research.google.com/assets/colab-badge.svg\" alt=\"Open In Colab\"/></a>"
      ]
    },
    {
      "cell_type": "code",
      "execution_count": null,
      "metadata": {
        "colab": {
          "base_uri": "https://localhost:8080/",
          "height": 36
        },
        "id": "7RpRPWYoBUnN",
        "outputId": "37b9a51a-e22a-4251-f42f-f5b685573879"
      },
      "outputs": [
        {
          "output_type": "execute_result",
          "data": {
            "text/plain": [
              "'xin chao viet nam!'"
            ],
            "application/vnd.google.colaboratory.intrinsic+json": {
              "type": "string"
            }
          },
          "metadata": {},
          "execution_count": 1
        }
      ],
      "source": [
        "# lower()\n",
        "\"XIN CHAO VIET NAM!\".lower()"
      ]
    },
    {
      "cell_type": "code",
      "source": [
        "#upper()\n",
        "\"đây là quả táo\".upper()"
      ],
      "metadata": {
        "colab": {
          "base_uri": "https://localhost:8080/",
          "height": 36
        },
        "id": "8MP-A1tYBg4g",
        "outputId": "5cc8c5fe-b97f-42a8-8bea-afe61fc1dfec"
      },
      "execution_count": null,
      "outputs": [
        {
          "output_type": "execute_result",
          "data": {
            "text/plain": [
              "'ĐÂY LÀ QUẢ TÁO'"
            ],
            "application/vnd.google.colaboratory.intrinsic+json": {
              "type": "string"
            }
          },
          "metadata": {},
          "execution_count": 2
        }
      ]
    },
    {
      "cell_type": "code",
      "source": [
        "#split(), join(), len(), count()\n",
        "x = \"nhà tôi có một con mèo | Ngày mai , tôi phải lên trường\"\n",
        "x0 = x.split(\" \")\n",
        "print(x0)\n",
        "x1 = \" \".join(x)\n",
        "print(x1)\n",
        "print(len(x))\n",
        "x2= x.count('i')\n",
        "print(x2)"
      ],
      "metadata": {
        "colab": {
          "base_uri": "https://localhost:8080/"
        },
        "id": "yqfHRCV1Bhyo",
        "outputId": "a1800d18-b83a-4f9e-f3a5-9188cedb50da"
      },
      "execution_count": null,
      "outputs": [
        {
          "output_type": "stream",
          "name": "stdout",
          "text": [
            "['nhà', 'tôi', 'có', 'một', 'con', 'mèo', '|', 'Ngày', 'mai', ',', 'tôi', 'phải', 'lên', 'trường']\n",
            "n h à   t ô i   c ó   m ộ t   c o n   m è o   |   N g à y   m a i   ,   t ô i   p h ả i   l ê n   t r ư ờ n g\n",
            "55\n",
            "4\n"
          ]
        }
      ]
    },
    {
      "cell_type": "code",
      "source": [
        "#sub-string\n",
        "x = \"nhà tôi có một con mèo | Ngày mai , tôi phải lên trường\"\n",
        "y = x[0:15]\n",
        "print(y)"
      ],
      "metadata": {
        "colab": {
          "base_uri": "https://localhost:8080/"
        },
        "id": "MSYXX0G3Bh34",
        "outputId": "f394f3d2-f356-4f2d-d86f-e58fbe550db6"
      },
      "execution_count": null,
      "outputs": [
        {
          "output_type": "stream",
          "name": "stdout",
          "text": [
            "nhà tôi có một \n"
          ]
        }
      ]
    },
    {
      "cell_type": "code",
      "source": [
        "import re\n",
        "\n",
        "\n",
        "x = \"abcabgh3yt4563c\"\n",
        "x1 = \"abcbgh3yt43c\"\n",
        "my_ex = re.compile(\"abc..gh.yt...3c\")\n",
        "\n",
        "\n",
        "if my_ex.search(x):\n",
        "  print(\"Yes\")\n",
        "else:\n",
        "  print(\"No\")\n",
        "\n",
        "\n",
        "if my_ex.search(x1):\n",
        "  print(\"Yes\")\n",
        "else:\n",
        "  print(\"No\")"
      ],
      "metadata": {
        "colab": {
          "base_uri": "https://localhost:8080/"
        },
        "id": "xKbq7-B2Bnf5",
        "outputId": "6d3f4451-c273-46db-ad2f-71d78901cc63"
      },
      "execution_count": null,
      "outputs": [
        {
          "output_type": "stream",
          "name": "stdout",
          "text": [
            "Yes\n",
            "No\n"
          ]
        }
      ]
    },
    {
      "cell_type": "code",
      "source": [
        "import re\n",
        "\n",
        "y = \"xal\"\n",
        "y1 =\"xxxal\"\n",
        "pat = r\"x?al\"\n",
        "\n",
        "if re.match(pat, y):\n",
        "  print(\"Yes\")\n",
        "else:\n",
        "  print(\"No\")\n",
        "\n",
        "if re.match(pat, y1):\n",
        "  print(\"Yes\")\n",
        "else:\n",
        "  print(\"No\")"
      ],
      "metadata": {
        "colab": {
          "base_uri": "https://localhost:8080/"
        },
        "id": "R2HOCqgoBrFw",
        "outputId": "818ff77c-1153-42e5-e443-58828cfa7f60"
      },
      "execution_count": null,
      "outputs": [
        {
          "output_type": "stream",
          "name": "stdout",
          "text": [
            "Yes\n",
            "No\n"
          ]
        }
      ]
    },
    {
      "cell_type": "code",
      "source": [
        "import re\n",
        "\n",
        "x =\"xy\"\n",
        "x1 = \"xababy\"\n",
        "x2 = \"xababababy\"\n",
        "x3 = \"xababababababy\"\n",
        "\n",
        "my_ex =\"x(ab){1,4}y\"\n",
        "\n",
        "if re.search(my_ex, x):\n",
        "  print(\"Yes\")\n",
        "else:\n",
        "  print(\"No\")\n",
        "\n",
        "\n",
        "if re.search(my_ex, x1):\n",
        "  print(\"Yes\")\n",
        "else:\n",
        "  print(\"No\")\n",
        "\n",
        "if re.search(my_ex, x2):\n",
        "  print(\"Yes\")\n",
        "else:\n",
        "  print(\"No\")\n",
        "\n",
        "if re.search(my_ex, x3):\n",
        "  print(\"Yes\")\n",
        "else:\n",
        "  print(\"No\")"
      ],
      "metadata": {
        "colab": {
          "base_uri": "https://localhost:8080/"
        },
        "id": "KHOebMZvBspg",
        "outputId": "8dea02dd-e90f-484a-e3c4-bb9e73a02b82"
      },
      "execution_count": null,
      "outputs": [
        {
          "output_type": "stream",
          "name": "stdout",
          "text": [
            "No\n",
            "Yes\n",
            "Yes\n",
            "No\n"
          ]
        }
      ]
    },
    {
      "cell_type": "code",
      "source": [
        "import re\n",
        "x = \"Đây là hông hoa\"\n",
        "x1 = \"Đó là cây tre\"\n",
        "\n",
        "\n",
        "my_exp = \"^Đó\"\n",
        "if re.search(my_exp, x):\n",
        "    print(\"Yes\")\n",
        "else:\n",
        "    print(\"No\")\n",
        "\n",
        "\n",
        "if re.search(my_exp, x1):\n",
        "    print(\"Yes\")\n",
        "else:\n",
        "    print(\"No\")\n"
      ],
      "metadata": {
        "colab": {
          "base_uri": "https://localhost:8080/"
        },
        "id": "NCLRVlk_BwRX",
        "outputId": "cf8ef5cd-f23c-4882-9b0d-a841f84a00c4"
      },
      "execution_count": null,
      "outputs": [
        {
          "output_type": "stream",
          "name": "stdout",
          "text": [
            "No\n",
            "Yes\n"
          ]
        }
      ]
    },
    {
      "cell_type": "code",
      "source": [
        "import re\n",
        "\n",
        "x = \"xyabc\"\n",
        "x1 = \"abc\"\n",
        "x2 = \"xya\"\n",
        "\n",
        "my_exp = \"[^abc]\"\n",
        "\n",
        "if re.search(my_exp,x):\n",
        "  print(\"Yes\")\n",
        "else:\n",
        "  print(\"No\")\n",
        "\n",
        "if re.search(my_exp,x1):\n",
        "  print(\"Yes\")\n",
        "else:\n",
        "  print(\"No\")\n",
        "\n",
        "if re.search(my_exp,x2):\n",
        "  print(\"Yes\")\n",
        "else:\n",
        "  print(\"No\")"
      ],
      "metadata": {
        "colab": {
          "base_uri": "https://localhost:8080/"
        },
        "id": "-633VD5ZBxk_",
        "outputId": "c626b65a-f332-4bd9-e99a-bfbe6911d982"
      },
      "execution_count": null,
      "outputs": [
        {
          "output_type": "stream",
          "name": "stdout",
          "text": [
            "Yes\n",
            "No\n",
            "Yes\n"
          ]
        }
      ]
    },
    {
      "cell_type": "code",
      "source": [
        "import re\n",
        "\n",
        "\n",
        "x = \"Tôi đã mua một gói kẹo\"\n",
        "x1 =\"Tôi bán 1 gói kẹo\"\n",
        "x2 = \"Tôi ăn 1 gói kẹo\"\n",
        "\n",
        "my_exp = \"mua|bán\"\n",
        "\n",
        "\n",
        "\n",
        "if re.search(my_exp,x):\n",
        "  print(\"Yes\")\n",
        "else:\n",
        "  print(\"No\")\n",
        "\n",
        "if re.search(my_exp,x1):\n",
        "  print(\"Yes\")\n",
        "else:\n",
        "  print(\"No\")\n",
        "\n",
        "\n",
        "if re.search(my_exp,x2):\n",
        "  print(\"Yes\")\n",
        "else:\n",
        "  print(\"No\")"
      ],
      "metadata": {
        "colab": {
          "base_uri": "https://localhost:8080/"
        },
        "id": "Rt7Vj1TsBz94",
        "outputId": "91b6fa1f-d012-4b07-bf9a-bf0e58e8d6f6"
      },
      "execution_count": null,
      "outputs": [
        {
          "output_type": "stream",
          "name": "stdout",
          "text": [
            "Yes\n",
            "Yes\n",
            "No\n"
          ]
        }
      ]
    },
    {
      "cell_type": "code",
      "source": [
        "x = \"số điện toại của tôi là: 123-3446-6776\"\n",
        "x1 = \" mèo @$@%!& nhà**&# tôi ---- làm&&@vỡ-__cái%%$cốc\"\n",
        "\n",
        "\n",
        "x2 = re.sub('\\d','X',x)\n",
        "print(x2)\n",
        "\n",
        "x3 = re.sub('[@$%!&*#-_]',' ',x1)\n",
        "print (x3)\n",
        "x4 = re.sub('\\s+',' ',x3)\n",
        "print(x4)"
      ],
      "metadata": {
        "colab": {
          "base_uri": "https://localhost:8080/"
        },
        "id": "AixdJjuCB2_X",
        "outputId": "da11ac7e-7885-4270-cd46-7235fdf637e8"
      },
      "execution_count": null,
      "outputs": [
        {
          "output_type": "stream",
          "name": "stdout",
          "text": [
            "số điện toại của tôi là: XXX-XXXX-XXXX\n",
            " mèo        nhà     tôi      làm   vỡ   cái   cốc\n",
            " mèo nhà tôi làm vỡ cái cốc\n"
          ]
        }
      ]
    }
  ]
}
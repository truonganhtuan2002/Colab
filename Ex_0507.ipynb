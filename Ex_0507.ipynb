{
  "nbformat": 4,
  "nbformat_minor": 0,
  "metadata": {
    "colab": {
      "provenance": [],
      "authorship_tag": "ABX9TyPuvQgFmLtBhxaU8d3qZaB4",
      "include_colab_link": true
    },
    "kernelspec": {
      "name": "python3",
      "display_name": "Python 3"
    },
    "language_info": {
      "name": "python"
    }
  },
  "cells": [
    {
      "cell_type": "markdown",
      "metadata": {
        "id": "view-in-github",
        "colab_type": "text"
      },
      "source": [
        "<a href=\"https://colab.research.google.com/github/truonganhtuan2002/Colab/blob/main/Ex_0507.ipynb\" target=\"_parent\"><img src=\"https://colab.research.google.com/assets/colab-badge.svg\" alt=\"Open In Colab\"/></a>"
      ]
    },
    {
      "cell_type": "code",
      "execution_count": null,
      "metadata": {
        "colab": {
          "base_uri": "https://localhost:8080/"
        },
        "id": "pZmMx-Iyd4Bs",
        "outputId": "7ef39333-6129-41ab-acfc-16285b0b5208"
      },
      "outputs": [
        {
          "output_type": "stream",
          "name": "stderr",
          "text": [
            "[nltk_data] Downloading package punkt to /root/nltk_data...\n",
            "[nltk_data]   Unzipping tokenizers/punkt.zip.\n"
          ]
        },
        {
          "output_type": "execute_result",
          "data": {
            "text/plain": [
              "True"
            ]
          },
          "metadata": {},
          "execution_count": 3
        }
      ],
      "source": [
        "import nltk\n",
        "import re\n",
        "\n",
        "nltk.download('punkt')"
      ]
    },
    {
      "cell_type": "code",
      "source": [
        "paragraph_vn = \"\"\"Nếu có ai đó ngoài kia vẫn còn nghi ngờ rằng nước Mỹ là nơi mà mọi điều đều có thể; ai vẫn còn tự hỏi liệu giấc mơ của những người sáng lập của chúng ta có còn sống trong thời đại của chúng ta; ai vẫn còn nghi ngờ sức mạnh của nền dân chủ của chúng ta: Đêm nay là câu trả lời của bạn.\n",
        "Đó là câu trả lời được kể bởi những hàng người kéo dài xung quanh các trường học và nhà thờ với số lượng mà quốc gia này chưa từng thấy; bởi những người đã chờ đợi ba giờ và bốn giờ, nhiều người lần đầu tiên trong cuộc đời của họ, vì họ tin rằng lần này phải khác; rằng tiếng nói của họ có thể là sự khác biệt đó.\n",
        "Đó là câu trả lời được nói bởi những người trẻ và già, giàu và nghèo, Đảng Dân chủ và Đảng Cộng hòa, đen, trắng, gốc Tây Ban Nha, người châu Á, người Mỹ bản địa, đồng tính, thẳng, khuyết tật và không khuyết tật -- Người Mỹ đã gửi một thông điệp tới thế giới rằng chúng ta chưa bao giờ chỉ là một tập hợp các cá nhân hay một tập hợp các bang Đỏ và bang Xanh: chúng ta là, và luôn luôn sẽ là, Hợp chủng quốc Hoa Kỳ!\n",
        "Đó là câu trả lời mà -- đã dẫn dắt những người đã được bảo quá lâu bởi rất nhiều người để trở nên hoài nghi, sợ hãi, và nghi ngờ về những gì chúng ta có thể đạt được để đặt tay lên cung lịch sử và uốn cong nó một lần nữa về phía hy vọng của một ngày tốt hơn.\n",
        "Đã lâu rồi, nhưng đêm nay, vì những gì chúng ta đã làm trong ngày này, trong cuộc bầu cử này, vào thời khắc quyết định này, sự thay đổi đã đến với nước Mỹ.\n",
        "Một chút trước đó vào tối nay, tôi đã nhận được một cuộc gọi vô cùng lịch sự từ Thượng nghị sĩ McCain. Thượng nghị sĩ McCain đã chiến đấu lâu dài và khó khăn trong chiến dịch này, và ông ấy đã chiến đấu thậm chí lâu hơn và khó khăn hơn cho đất nước mà ông ấy yêu. Ông ấy đã chịu đựng những hy sinh cho nước Mỹ mà hầu hết chúng ta không thể bắt đầu tưởng tượng. Chúng ta tốt hơn nhờ vào dịch vụ được cung cấp bởi nhà lãnh đạo dũng cảm và vị tha này. Tôi chúc mừng ông ấy; tôi chúc mừng Thống đốc Palin vì tất cả những gì họ đã đạt được, và tôi mong muốn được làm việc với họ để đổi mới lời hứa của quốc gia này trong những tháng tới.\n",
        "Tôi muốn cảm ơn đối tác của tôi trong hành trình này, một người đã vận động từ trái tim và nói thay cho những người đàn ông và phụ nữ mà ông ấy lớn lên cùng trên đường phố Scranton và cùng đi tàu về nhà ở Delaware, Phó Tổng thống đắc cử của Hoa Kỳ, Joe Biden.\"\"\""
      ],
      "metadata": {
        "id": "zFtlgqgMfA8B"
      },
      "execution_count": null,
      "outputs": []
    },
    {
      "cell_type": "code",
      "source": [
        "# Token hóa thành câu.\n",
        "sentences = nltk.sent_tokenize(paragraph_vn)\n",
        "for i in range(len(sentences)):\n",
        "    sentences[i] = sentences[i].lower()\n",
        "    sentences[i] = re.sub(r'\\W', ' ', sentences[i])\n",
        "    sentences[i] = re.sub(r'\\s+', ' ', sentences[i])\n",
        "    sentences[i] = re.sub(r'\\s$', '', sentences[i])\n",
        "print(sentences)"
      ],
      "metadata": {
        "colab": {
          "base_uri": "https://localhost:8080/"
        },
        "id": "81Pw-ZY_gJo5",
        "outputId": "29cd693b-3112-495b-90c1-570246367b28"
      },
      "execution_count": null,
      "outputs": [
        {
          "output_type": "stream",
          "name": "stdout",
          "text": [
            "['nếu có ai đó ngoài kia vẫn còn nghi ngờ rằng nước mỹ là nơi mà mọi điều đều có thể ai vẫn còn tự hỏi liệu giấc mơ của những người sáng lập của chúng ta có còn sống trong thời đại của chúng ta ai vẫn còn nghi ngờ sức mạnh của nền dân chủ của chúng ta đêm nay là câu trả lời của bạn', 'đó là câu trả lời được kể bởi những hàng người kéo dài xung quanh các trường học và nhà thờ với số lượng mà quốc gia này chưa từng thấy bởi những người đã chờ đợi ba giờ và bốn giờ nhiều người lần đầu tiên trong cuộc đời của họ vì họ tin rằng lần này phải khác rằng tiếng nói của họ có thể là sự khác biệt đó', 'đó là câu trả lời được nói bởi những người trẻ và già giàu và nghèo đảng dân chủ và đảng cộng hòa đen trắng gốc tây ban nha người châu á người mỹ bản địa đồng tính thẳng khuyết tật và không khuyết tật người mỹ đã gửi một thông điệp tới thế giới rằng chúng ta chưa bao giờ chỉ là một tập hợp các cá nhân hay một tập hợp các bang đỏ và bang xanh chúng ta là và luôn luôn sẽ là hợp chủng quốc hoa kỳ', 'đó là câu trả lời mà đã dẫn dắt những người đã được bảo quá lâu bởi rất nhiều người để trở nên hoài nghi sợ hãi và nghi ngờ về những gì chúng ta có thể đạt được để đặt tay lên cung lịch sử và uốn cong nó một lần nữa về phía hy vọng của một ngày tốt hơn', 'đã lâu rồi nhưng đêm nay vì những gì chúng ta đã làm trong ngày này trong cuộc bầu cử này vào thời khắc quyết định này sự thay đổi đã đến với nước mỹ', 'một chút trước đó vào tối nay tôi đã nhận được một cuộc gọi vô cùng lịch sự từ thượng nghị sĩ mccain', 'thượng nghị sĩ mccain đã chiến đấu lâu dài và khó khăn trong chiến dịch này và ông ấy đã chiến đấu thậm chí lâu hơn và khó khăn hơn cho đất nước mà ông ấy yêu', 'ông ấy đã chịu đựng những hy sinh cho nước mỹ mà hầu hết chúng ta không thể bắt đầu tưởng tượng', 'chúng ta tốt hơn nhờ vào dịch vụ được cung cấp bởi nhà lãnh đạo dũng cảm và vị tha này', 'tôi chúc mừng ông ấy tôi chúc mừng thống đốc palin vì tất cả những gì họ đã đạt được và tôi mong muốn được làm việc với họ để đổi mới lời hứa của quốc gia này trong những tháng tới', 'tôi muốn cảm ơn đối tác của tôi trong hành trình này một người đã vận động từ trái tim và nói thay cho những người đàn ông và phụ nữ mà ông ấy lớn lên cùng trên đường phố scranton và cùng đi tàu về nhà ở delaware phó tổng thống đắc cử của hoa kỳ joe biden']\n"
          ]
        }
      ]
    },
    {
      "cell_type": "markdown",
      "source": [
        "1.2\n"
      ],
      "metadata": {
        "id": "HiCulJldgZ9Y"
      }
    },
    {
      "cell_type": "code",
      "source": [
        "from nltk.corpus import stopwords\n",
        "nltk.download('stopwords')"
      ],
      "metadata": {
        "colab": {
          "base_uri": "https://localhost:8080/"
        },
        "id": "7SEGohb9gJrg",
        "outputId": "8d17fec0-f571-4786-d3f8-e01fec5702f2"
      },
      "execution_count": null,
      "outputs": [
        {
          "output_type": "stream",
          "name": "stderr",
          "text": [
            "[nltk_data] Downloading package stopwords to /root/nltk_data...\n",
            "[nltk_data]   Unzipping corpora/stopwords.zip.\n"
          ]
        },
        {
          "output_type": "execute_result",
          "data": {
            "text/plain": [
              "True"
            ]
          },
          "metadata": {},
          "execution_count": 8
        }
      ]
    },
    {
      "cell_type": "code",
      "source": [
        "for i in range(len(sentences)):\n",
        "    words = nltk.word_tokenize(sentences[i])\n",
        "    words = [x for x in words if x not in stopwords.words('english')]\n",
        "    sentences[i] = ' '.join(words)"
      ],
      "metadata": {
        "id": "ov9tIcrLgfBY"
      },
      "execution_count": null,
      "outputs": []
    },
    {
      "cell_type": "code",
      "source": [
        "print(sentences)"
      ],
      "metadata": {
        "colab": {
          "base_uri": "https://localhost:8080/"
        },
        "id": "zROXXrxSgfDx",
        "outputId": "e32e5035-c873-4dcb-8f6a-1db7e8505220"
      },
      "execution_count": null,
      "outputs": [
        {
          "output_type": "stream",
          "name": "stdout",
          "text": [
            "['nếu có ai đó ngoài kia vẫn còn nghi ngờ rằng nước mỹ là nơi mà mọi điều đều có thể ai vẫn còn tự hỏi liệu giấc mơ của những người sáng lập của chúng ta có còn sống trong thời đại của chúng ta ai vẫn còn nghi ngờ sức mạnh của nền dân chủ của chúng ta đêm nay là câu trả lời của bạn', 'đó là câu trả lời được kể bởi những hàng người kéo dài xung quanh các trường học và nhà thờ với số lượng mà quốc gia này chưa từng thấy bởi những người đã chờ đợi ba giờ và bốn giờ nhiều người lần đầu tiên trong cuộc đời của họ vì họ tin rằng lần này phải khác rằng tiếng nói của họ có thể là sự khác biệt đó', 'đó là câu trả lời được nói bởi những người trẻ và già giàu và nghèo đảng dân chủ và đảng cộng hòa đen trắng gốc tây ban nha người châu á người mỹ bản địa đồng tính thẳng khuyết tật và không khuyết tật người mỹ đã gửi một thông điệp tới thế giới rằng chúng ta chưa bao giờ chỉ là một tập hợp các cá nhân hay một tập hợp các bang đỏ và bang xanh chúng ta là và luôn luôn sẽ là hợp chủng quốc hoa kỳ', 'đó là câu trả lời mà đã dẫn dắt những người đã được bảo quá lâu bởi rất nhiều người để trở nên hoài nghi sợ hãi và nghi ngờ về những gì chúng ta có thể đạt được để đặt tay lên cung lịch sử và uốn cong nó một lần nữa về phía hy vọng của một ngày tốt hơn', 'đã lâu rồi nhưng đêm nay vì những gì chúng ta đã làm trong ngày này trong cuộc bầu cử này vào thời khắc quyết định này sự thay đổi đã đến với nước mỹ', 'một chút trước đó vào tối nay tôi đã nhận được một cuộc gọi vô cùng lịch sự từ thượng nghị sĩ mccain', 'thượng nghị sĩ mccain đã chiến đấu lâu dài và khó khăn trong chiến dịch này và ông ấy đã chiến đấu thậm chí lâu hơn và khó khăn hơn cho đất nước mà ông ấy yêu', 'ông ấy đã chịu đựng những hy sinh cho nước mỹ mà hầu hết chúng ta không thể bắt đầu tưởng tượng', 'chúng ta tốt hơn nhờ vào dịch vụ được cung cấp bởi nhà lãnh đạo dũng cảm và vị tha này', 'tôi chúc mừng ông ấy tôi chúc mừng thống đốc palin vì tất cả những gì họ đã đạt được và tôi mong muốn được làm việc với họ để đổi mới lời hứa của quốc gia này trong những tháng tới', 'tôi muốn cảm ơn đối tác của tôi trong hành trình này một người đã vận động từ trái tim và nói thay cho những người đàn ông và phụ nữ mà ông ấy lớn lên cùng trên đường phố scranton và cùng đi tàu về nhà ở delaware phó tổng thống đắc cử của hoa kỳ joe biden']\n"
          ]
        }
      ]
    },
    {
      "cell_type": "markdown",
      "source": [
        "1.3"
      ],
      "metadata": {
        "id": "Xr0avbiQg2kw"
      }
    },
    {
      "cell_type": "code",
      "source": [
        "import nltk\n",
        "from nltk.corpus import stopwords\n",
        "from nltk.stem import WordNetLemmatizer\n",
        "\n",
        "# Tải xuống các tài nguyên cần thiết\n",
        "nltk.download('punkt')\n",
        "nltk.download('stopwords')\n",
        "nltk.download('wordnet')\n",
        "\n",
        "# Test sentence\n",
        "my_sentence = \"Đấu trường La Mã được xây dựng bởi hoàng đế Vespassian\""
      ],
      "metadata": {
        "colab": {
          "base_uri": "https://localhost:8080/"
        },
        "id": "s4Z1gqEugfGJ",
        "outputId": "1ad5f534-6eba-4671-9c6a-ef041d30f4a6"
      },
      "execution_count": null,
      "outputs": [
        {
          "output_type": "stream",
          "name": "stderr",
          "text": [
            "[nltk_data] Downloading package punkt to /root/nltk_data...\n",
            "[nltk_data]   Package punkt is already up-to-date!\n",
            "[nltk_data] Downloading package stopwords to /root/nltk_data...\n",
            "[nltk_data]   Package stopwords is already up-to-date!\n",
            "[nltk_data] Downloading package wordnet to /root/nltk_data...\n"
          ]
        }
      ]
    },
    {
      "cell_type": "code",
      "source": [
        "my_words = nltk.word_tokenize(my_sentence)\n",
        "for i in range(len(my_words)):\n",
        "    my_words[i] = my_words[i].lower()\n",
        "my_words"
      ],
      "metadata": {
        "colab": {
          "base_uri": "https://localhost:8080/"
        },
        "id": "w68ikkm_hfGA",
        "outputId": "aebbf1b3-6b8b-415f-cb61-3409669a45ca"
      },
      "execution_count": null,
      "outputs": [
        {
          "output_type": "execute_result",
          "data": {
            "text/plain": [
              "['đấu',\n",
              " 'trường',\n",
              " 'la',\n",
              " 'mã',\n",
              " 'được',\n",
              " 'xây',\n",
              " 'dựng',\n",
              " 'bởi',\n",
              " 'hoàng',\n",
              " 'đế',\n",
              " 'vespassian']"
            ]
          },
          "metadata": {},
          "execution_count": 12
        }
      ]
    },
    {
      "cell_type": "code",
      "source": [
        "nltk.download('averaged_perceptron_tagger')\n",
        "\n",
        "my_words_tagged = nltk.pos_tag(my_words)\n",
        "my_words_tagged"
      ],
      "metadata": {
        "colab": {
          "base_uri": "https://localhost:8080/"
        },
        "id": "uGSeb3C6hfIZ",
        "outputId": "e75a40af-933b-41ba-a994-c8ffb35f78ea"
      },
      "execution_count": null,
      "outputs": [
        {
          "output_type": "stream",
          "name": "stderr",
          "text": [
            "[nltk_data] Downloading package averaged_perceptron_tagger to\n",
            "[nltk_data]     /root/nltk_data...\n",
            "[nltk_data]   Unzipping taggers/averaged_perceptron_tagger.zip.\n"
          ]
        },
        {
          "output_type": "execute_result",
          "data": {
            "text/plain": [
              "[('đấu', 'JJ'),\n",
              " ('trường', 'NN'),\n",
              " ('la', 'NN'),\n",
              " ('mã', 'FW'),\n",
              " ('được', 'NNP'),\n",
              " ('xây', 'NNP'),\n",
              " ('dựng', 'NN'),\n",
              " ('bởi', 'NN'),\n",
              " ('hoàng', 'NN'),\n",
              " ('đế', 'NNP'),\n",
              " ('vespassian', 'NN')]"
            ]
          },
          "metadata": {},
          "execution_count": 14
        }
      ]
    },
    {
      "cell_type": "code",
      "source": [
        "my_words_tagged2 = []\n",
        "for tw in my_words_tagged:\n",
        "    my_words_tagged2.append(tw[0] + '(' + tw[1] + ')')\n",
        "my_sentence_tagged = ' '.join(my_words_tagged2)\n",
        "my_sentence_tagged"
      ],
      "metadata": {
        "colab": {
          "base_uri": "https://localhost:8080/",
          "height": 53
        },
        "id": "PAKmkq0FhzWB",
        "outputId": "1309ce5e-f0db-45e6-abc4-f9bd7135c33a"
      },
      "execution_count": null,
      "outputs": [
        {
          "output_type": "execute_result",
          "data": {
            "text/plain": [
              "'đấu(JJ) trường(NN) la(NN) mã(FW) được(NNP) xây(NNP) dựng(NN) bởi(NN) hoàng(NN) đế(NNP) vespassian(NN)'"
            ],
            "application/vnd.google.colaboratory.intrinsic+json": {
              "type": "string"
            }
          },
          "metadata": {},
          "execution_count": 15
        }
      ]
    }
  ]
}
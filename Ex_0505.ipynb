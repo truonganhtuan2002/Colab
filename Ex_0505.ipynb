{
  "nbformat": 4,
  "nbformat_minor": 0,
  "metadata": {
    "colab": {
      "provenance": [],
      "authorship_tag": "ABX9TyMuKSUFLoeRbxHadqTrzzpS",
      "include_colab_link": true
    },
    "kernelspec": {
      "name": "python3",
      "display_name": "Python 3"
    },
    "language_info": {
      "name": "python"
    }
  },
  "cells": [
    {
      "cell_type": "markdown",
      "metadata": {
        "id": "view-in-github",
        "colab_type": "text"
      },
      "source": [
        "<a href=\"https://colab.research.google.com/github/truonganhtuan2002/Colab/blob/main/Ex_0505.ipynb\" target=\"_parent\"><img src=\"https://colab.research.google.com/assets/colab-badge.svg\" alt=\"Open In Colab\"/></a>"
      ]
    },
    {
      "cell_type": "code",
      "execution_count": null,
      "metadata": {
        "id": "2h0Tt1qBVWF6"
      },
      "outputs": [],
      "source": [
        "import tweepy\n",
        "import re\n",
        "import os\n",
        "import pickle\n",
        "import nltk\n",
        "from nltk.corpus import stopwords\n",
        "from tweepy import OAuthHandler"
      ]
    },
    {
      "cell_type": "code",
      "source": [
        "my_consumer_key = \"\"\n",
        "my_consumer_secret = \"\"\n",
        "my_access_token = \"\"\n",
        "my_access_secret = \"\""
      ],
      "metadata": {
        "id": "uFcUWrr4VqO5"
      },
      "execution_count": null,
      "outputs": []
    },
    {
      "cell_type": "code",
      "source": [
        "# Initialize the tokens.\n",
        "auth = OAuthHandler(my_consumer_key, my_consumer_secret)\n",
        "auth.set_access_token(my_access_token, my_access_secret)"
      ],
      "metadata": {
        "id": "uD483O-2VxGg"
      },
      "execution_count": null,
      "outputs": []
    },
    {
      "cell_type": "code",
      "source": [
        "my_keyword = \"Trump\"\n",
        "my_location = \"40.71,-74.0,500km\"\n",
        "n_tweets = 100"
      ],
      "metadata": {
        "id": "KVz0dZbnVxJQ"
      },
      "execution_count": null,
      "outputs": []
    },
    {
      "cell_type": "code",
      "source": [
        "my_tweets = []\n",
        "api = tweepy.API(auth, timeout = 10)           # Timeout after 10 seconds.\n",
        "for status in tweepy.Cursor(api.search, q = my_keyword + \" -filter:retweets\", lang=\"en\", result_type=\"recent\", geocode=my_location).items(n_tweets):\n",
        "    my_tweets.append(status.text)"
      ],
      "metadata": {
        "id": "NsI3rcOAXhmD"
      },
      "execution_count": null,
      "outputs": []
    },
    {
      "cell_type": "code",
      "source": [
        "print('\\n'.join(my_tweets))"
      ],
      "metadata": {
        "colab": {
          "base_uri": "https://localhost:8080/"
        },
        "id": "LO-vjXofXuJa",
        "outputId": "fab5ae4e-5678-463d-e22e-860528b24ad4"
      },
      "execution_count": null,
      "outputs": [
        {
          "output_type": "stream",
          "name": "stdout",
          "text": [
            "\n"
          ]
        }
      ]
    },
    {
      "cell_type": "code",
      "source": [
        "my_tweets_new = []\n",
        "for tweet in my_tweets:\n",
        "     tweet = tweet.lower()\n",
        "     tweet = re.sub(r\"^https://t.co/[a-zA-Z0-9]*\\s\", \" \", tweet)\n",
        "     tweet = re.sub(r\"\\s+https://t.co/[a-zA-Z0-9]*\\s\", \" \", tweet)\n",
        "     tweet = re.sub(r\"\\s+https://t.co/[a-zA-Z0-9]*$\", \" \", tweet)\n",
        "     tweet = re.sub(r\"that's\",\"that is\",tweet)\n",
        "     tweet = re.sub(r\"there's\",\"there is\",tweet)\n",
        "     tweet = re.sub(r\"what's\",\"what is\",tweet)\n",
        "     tweet = re.sub(r\"where's\",\"where is\",tweet)\n",
        "     tweet = re.sub(r\"it's\",\"it is\",tweet)\n",
        "     tweet = re.sub(r\"who's\",\"who is\",tweet)\n",
        "     tweet = re.sub(r\"i'm\",\"i am\",tweet)\n",
        "     tweet = re.sub(r\"she's\",\"she is\",tweet)\n",
        "     tweet = re.sub(r\"he's\",\"he is\",tweet)\n",
        "     tweet = re.sub(r\"they're\",\"they are\",tweet)\n",
        "     tweet = re.sub(r\"who're\",\"who are\",tweet)\n",
        "     tweet = re.sub(r\"ain't\",\"am not\",tweet)\n",
        "     tweet = re.sub(r\"wouldn't\",\"would not\",tweet)\n",
        "     tweet = re.sub(r\"shouldn't\",\"should not\",tweet)\n",
        "     tweet = re.sub(r\"can't\",\"can not\",tweet)\n",
        "     tweet = re.sub(r\"couldn't\",\"could not\",tweet)\n",
        "     tweet = re.sub(r\"won't\",\"will not\",tweet)\n",
        "     tweet = re.sub(r\"\\W\",\" \",tweet)\n",
        "     tweet = re.sub(r\"\\d\",\" \",tweet)\n",
        "     tweet = re.sub(r\"\\s+[a-z]\\s+\",\" \",tweet)\n",
        "     tweet = re.sub(r\"\\s+[a-z]$\",\" \",tweet)\n",
        "     tweet = re.sub(r\"^[a-z]\\s+\",\" \",tweet)\n",
        "     tweet = re.sub(r\"\\s+\",\" \",tweet)\n",
        "     words = nltk.word_tokenize(tweet)\n",
        "     words = [x for x in words if x not in stopwords.words('english')]\n",
        "     tweet = ' '.join(words)\n",
        "     my_tweets_new.append(tweet)"
      ],
      "metadata": {
        "id": "0m55a76eVxZ4"
      },
      "execution_count": null,
      "outputs": []
    },
    {
      "cell_type": "code",
      "source": [
        "i = 0\n",
        "for tw in my_tweets_new:\n",
        "    i += 1\n",
        "    print(str(i) + \" : \" + tw)"
      ],
      "metadata": {
        "id": "1G378oQ3Xc8T"
      },
      "execution_count": null,
      "outputs": []
    }
  ]
}
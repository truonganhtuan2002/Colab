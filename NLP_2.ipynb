{
  "nbformat": 4,
  "nbformat_minor": 0,
  "metadata": {
    "colab": {
      "provenance": [],
      "authorship_tag": "ABX9TyOahqzDcjocPU40g62wziVX",
      "include_colab_link": true
    },
    "kernelspec": {
      "name": "python3",
      "display_name": "Python 3"
    },
    "language_info": {
      "name": "python"
    }
  },
  "cells": [
    {
      "cell_type": "markdown",
      "metadata": {
        "id": "view-in-github",
        "colab_type": "text"
      },
      "source": [
        "<a href=\"https://colab.research.google.com/github/truonganhtuan2002/Colab/blob/main/NLP_2.ipynb\" target=\"_parent\"><img src=\"https://colab.research.google.com/assets/colab-badge.svg\" alt=\"Open In Colab\"/></a>"
      ]
    },
    {
      "cell_type": "code",
      "execution_count": null,
      "metadata": {
        "colab": {
          "base_uri": "https://localhost:8080/"
        },
        "id": "YkzQVxTdFWsL",
        "outputId": "2124a31a-9fb9-4740-8877-38c0872864d0"
      },
      "outputs": [
        {
          "output_type": "stream",
          "name": "stdout",
          "text": [
            "Tôi thích banana      nhất\n",
            "Tôi thích banana nhất\n"
          ]
        }
      ],
      "source": [
        "#-----x.lstrip()\n",
        "txt = \"     banana     \"\n",
        "x = txt.lstrip()\n",
        "print(\"Tôi thích\", x,\"nhất\" )\n",
        "\n",
        "print(\"Tôi thích\", x.strip(), \"nhất\")\n"
      ]
    },
    {
      "cell_type": "code",
      "source": [
        "#-----x.replace(old, new)\n",
        "s = \"Hello, World!\"\n",
        "print(s.replace(\"World\", \"Python\")) #Output: Hello, Python!\n"
      ],
      "metadata": {
        "colab": {
          "base_uri": "https://localhost:8080/"
        },
        "id": "GcOmh0xUFnnh",
        "outputId": "6f2181b0-4909-45d9-fa8d-11e047236f55"
      },
      "execution_count": null,
      "outputs": [
        {
          "output_type": "stream",
          "name": "stdout",
          "text": [
            "Hello, Python!\n"
          ]
        }
      ]
    },
    {
      "cell_type": "code",
      "source": [
        "#--- count\n",
        "s = \"Bay gio la thang 7\"\n",
        "print(s.count(\"g\"))"
      ],
      "metadata": {
        "colab": {
          "base_uri": "https://localhost:8080/"
        },
        "id": "-C_vLc43FqTv",
        "outputId": "42b917d2-4719-4dca-d09c-1d822d247d72"
      },
      "execution_count": null,
      "outputs": [
        {
          "output_type": "stream",
          "name": "stdout",
          "text": [
            "2\n"
          ]
        }
      ]
    },
    {
      "cell_type": "code",
      "source": [
        "#----find\n",
        "s = \"This is samsung AI class\"\n",
        "print(s.find(\"is\")) # trả về địa chỉ đầu tiên của xâu con cần tìm\n",
        "\n",
        "\n",
        "print(s.index(\"is\"))   # Trả về vị trí đầu tiên của xâu con"
      ],
      "metadata": {
        "colab": {
          "base_uri": "https://localhost:8080/"
        },
        "id": "SibHiNVWFsh_",
        "outputId": "ecc08d87-6c89-4701-d31a-b51dd78bf6e3"
      },
      "execution_count": null,
      "outputs": [
        {
          "output_type": "stream",
          "name": "stdout",
          "text": [
            "2\n",
            "2\n"
          ]
        }
      ]
    },
    {
      "cell_type": "code",
      "source": [
        "#-----join\n",
        "list1 =['This', 'is', 'Tom']\n",
        "x =\" \".join(list1)\n",
        "\n",
        "\n",
        "print(\"|\". join(list1))"
      ],
      "metadata": {
        "colab": {
          "base_uri": "https://localhost:8080/"
        },
        "id": "SNv8EHcPFsoz",
        "outputId": "a1d5621a-7a1f-4324-b9e5-845daf49bde3"
      },
      "execution_count": null,
      "outputs": [
        {
          "output_type": "stream",
          "name": "stdout",
          "text": [
            "This|is|Tom\n"
          ]
        }
      ]
    },
    {
      "cell_type": "code",
      "source": [
        "#-----split()\n",
        "s = \"Đây là con mèo || Đó là quả cam\"\n",
        "x =s.split(\" \")\n",
        "print(x)\n",
        "\n",
        "\n",
        "\n",
        "x2=s.split(\"||\")\n",
        "print(x2)\n",
        "\n",
        "\n",
        "print(s.upper())\n",
        "\n",
        "\n",
        "if s.startswith(\"Đây\"):\n",
        "  print(\"Yes\")\n",
        "else:\n",
        "  print(\"No\")\n",
        "\n",
        "\n",
        "if s.endswith(\"cam\"):\n",
        "  print (\"Yes\")\n",
        "else:\n",
        "  print(\"No\")"
      ],
      "metadata": {
        "colab": {
          "base_uri": "https://localhost:8080/"
        },
        "id": "ABJ1-zubFxVB",
        "outputId": "fec943ae-1224-4385-e1da-a4842beef82b"
      },
      "execution_count": null,
      "outputs": [
        {
          "output_type": "stream",
          "name": "stdout",
          "text": [
            "['Đây', 'là', 'con', 'mèo', '||', 'Đó', 'là', 'quả', 'cam']\n",
            "['Đây là con mèo ', ' Đó là quả cam']\n",
            "ĐÂY LÀ CON MÈO || ĐÓ LÀ QUẢ CAM\n",
            "Yes\n",
            "Yes\n"
          ]
        }
      ]
    },
    {
      "cell_type": "code",
      "source": [
        "#   []: hoặc\n",
        "import re\n",
        "\n",
        "text = \"a\"   #trong text có ít nhất 1 kí tự thuộc pattern -> yes\n",
        "pattern = r\"[abc]\"\n",
        "\n",
        "\n",
        "if re.match(pattern, text):\n",
        "  print(\"Yes\")\n",
        "else:\n",
        "  print(\"No\")\n",
        "\n",
        "\n",
        "\n",
        "text1 = \"ill\"  #->No vì trong text không thuộc pattern\n",
        "pattern1 = r\"[abc]\"\n",
        "\n",
        "\n",
        "if re.match(pattern1, text1):\n",
        "  print(\"Yes\")\n",
        "else:\n",
        "  print(\"No\")"
      ],
      "metadata": {
        "colab": {
          "base_uri": "https://localhost:8080/"
        },
        "id": "qgmxfR6sFxXi",
        "outputId": "9855eb3b-b91a-4ccc-9c42-9ccfc0b45952"
      },
      "execution_count": null,
      "outputs": [
        {
          "output_type": "stream",
          "name": "stdout",
          "text": [
            "Yes\n",
            "No\n"
          ]
        }
      ]
    },
    {
      "cell_type": "code",
      "source": [
        "import re\n",
        "\n",
        "text = \"rmybc\"   #\n",
        "pattern = r\"[^abc]\"\n",
        "\n",
        "if re.match(pattern, text):\n",
        "  print(\"Yes\")\n",
        "else:\n",
        "  print(\"No\")"
      ],
      "metadata": {
        "colab": {
          "base_uri": "https://localhost:8080/"
        },
        "id": "mLg47H1KFxaY",
        "outputId": "35e9add1-821f-4652-cab5-1bbbd93adcd5"
      },
      "execution_count": null,
      "outputs": [
        {
          "output_type": "stream",
          "name": "stdout",
          "text": [
            "Yes\n"
          ]
        }
      ]
    },
    {
      "cell_type": "code",
      "source": [
        "import re\n",
        "\n",
        "text = \"a55b\"   # Mỗi dấu chấm nó đếu match với 1 kí tự\n",
        "pattern = r\"a.b\"\n",
        "\n",
        "if re.match(pattern, text):\n",
        "  print(\"Yes\")\n",
        "else:\n",
        "  print(\"No\")\n",
        "\n",
        "\n",
        "\n",
        "text = \"abcadikl4ef3a\"   # Mỗi dấu chấm nó đếu match với 1 kí tự\n",
        "pattern = r\"abc..ikl.ef.a\"\n",
        "\n",
        "if re.match(pattern, text):\n",
        "  print(\"Yes\")\n",
        "else:\n",
        "  print(\"No\")"
      ],
      "metadata": {
        "colab": {
          "base_uri": "https://localhost:8080/"
        },
        "id": "8BsB3XHmGsYI",
        "outputId": "12dff426-ee6b-4d5d-c39f-8ccd18fa861d"
      },
      "execution_count": null,
      "outputs": [
        {
          "output_type": "stream",
          "name": "stdout",
          "text": [
            "No\n",
            "Yes\n"
          ]
        }
      ]
    },
    {
      "cell_type": "code",
      "source": [
        "import re\n",
        "\n",
        "text = \"cabababt\"   # Bắt đầu bằng 1 dãy kí tự theo sau có thể có 1 hoặc nhiều các kí tự nào đó và kết thúc bởi dãy nào đó\n",
        "pattern = r\"c(ab)*t\"\n",
        "\n",
        "if re.match(pattern, text):\n",
        "  print(\"Yes\")\n",
        "else:\n",
        "  print(\"No\")"
      ],
      "metadata": {
        "colab": {
          "base_uri": "https://localhost:8080/"
        },
        "id": "himUMGBPJgbw",
        "outputId": "ae463a8c-a97f-4a86-b71d-630c91ca1e30"
      },
      "execution_count": null,
      "outputs": [
        {
          "output_type": "stream",
          "name": "stdout",
          "text": [
            "Yes\n"
          ]
        }
      ]
    },
    {
      "cell_type": "code",
      "source": [
        "# meta - + -\n",
        "import re\n",
        "\n",
        "text = \"cabt\"   # Giống * nhưng yêu cầu ít nhất 1 lần\n",
        "pattern = r\"c(ab)+t\"\n",
        "\n",
        "if re.match(pattern, text):\n",
        "  print(\"Yes\")\n",
        "else:\n",
        "  print(\"No\")"
      ],
      "metadata": {
        "colab": {
          "base_uri": "https://localhost:8080/"
        },
        "id": "rfA9BSOOKSNf",
        "outputId": "05f6ccc8-730e-4f65-ad05-af9416ba1bdb"
      },
      "execution_count": null,
      "outputs": [
        {
          "output_type": "stream",
          "name": "stdout",
          "text": [
            "Yes\n"
          ]
        }
      ]
    },
    {
      "cell_type": "code",
      "source": [
        "# meta - ? - Ký tự trước ? không xuất hiện hoặc xuất hiện 1 lần -> Yes\n",
        "import re\n",
        "\n",
        "text = \"ct\"    # Yes\n",
        "text = \"cabt\"    # Yes\n",
        "#text = \"cababt\"    # No ; ab nó xuất hiện nhiều hơn 1 lần\n",
        "pattern = r\"c(ab)?t\"\n",
        "\n",
        "if re.match(pattern, text):\n",
        "  print(\"Yes\")\n",
        "else:\n",
        "  print(\"No\")"
      ],
      "metadata": {
        "colab": {
          "base_uri": "https://localhost:8080/"
        },
        "id": "l_vIhPn8L4vO",
        "outputId": "1b488dd9-0fb1-44f1-c661-e13cb676de4d"
      },
      "execution_count": null,
      "outputs": [
        {
          "output_type": "stream",
          "name": "stdout",
          "text": [
            "Yes\n"
          ]
        }
      ]
    },
    {
      "cell_type": "code",
      "source": [
        "# meta - ^\"1 xâu kí tự\"\n",
        "import re\n",
        "\n",
        "text = \"This is Tom\"    # -> Yes\n",
        "text = \"That is Tom\"    # -> No\n",
        "pattern = r\"^This\"      # Text có bắt đầu bằng This\n",
        "\n",
        "if re.match(pattern, text):\n",
        "  print(\"Yes\")\n",
        "else:\n",
        "  print(\"No\")"
      ],
      "metadata": {
        "colab": {
          "base_uri": "https://localhost:8080/"
        },
        "id": "tuSCanY7Mbxr",
        "outputId": "0c293f59-6807-4a18-bfc6-72fccb6d35df"
      },
      "execution_count": null,
      "outputs": [
        {
          "output_type": "stream",
          "name": "stdout",
          "text": [
            "No\n"
          ]
        }
      ]
    },
    {
      "cell_type": "code",
      "source": [
        "# meta - $\"1 xâu kí tự\"  - đoạn kí tự có phải là đoạn kết thúc của xâu hay không\n",
        "import re\n",
        "\n",
        "text = \"This is Tom\"    # -> Yes\n",
        "text = \"That is Dom\"    # -> No\n",
        "pattern = r\"$Tom\"      # Text có kết thúc bằng Tom hay không\n",
        "\n",
        "if re.match(pattern, text):\n",
        "  print(\"Yes\")\n",
        "else:\n",
        "  print(\"No\")"
      ],
      "metadata": {
        "colab": {
          "base_uri": "https://localhost:8080/"
        },
        "id": "0JDSq2YtOOrm",
        "outputId": "399f5c63-2129-449a-b2ec-f6a3d6362c3e"
      },
      "execution_count": null,
      "outputs": [
        {
          "output_type": "stream",
          "name": "stdout",
          "text": [
            "No\n"
          ]
        }
      ]
    },
    {
      "cell_type": "code",
      "source": [
        "# meta - \"1 xâu kí tự\"$  - đoạn kí tự có phải là đoạn kết thúc của xâu hay không\n",
        "import re\n",
        "\n",
        "text = \"This is Tom\"    # -> Yes\n",
        "text = \"That is Dom\"    # -> No\n",
        "pattern = r\"Tom$\"      # Text có kết thúc bằng Tom hay không\n",
        "\n",
        "if re.search(pattern, text):\n",
        "  print(\"Yes\")\n",
        "else:\n",
        "  print(\"No\")"
      ],
      "metadata": {
        "colab": {
          "base_uri": "https://localhost:8080/"
        },
        "id": "G6lqoLO-OowQ",
        "outputId": "f1f69485-ba1f-482b-b7d0-0979c5aba0dc"
      },
      "execution_count": null,
      "outputs": [
        {
          "output_type": "stream",
          "name": "stdout",
          "text": [
            "No\n"
          ]
        }
      ]
    },
    {
      "cell_type": "code",
      "source": [
        "import re\n",
        "\n",
        "text = \"This is Tom\"    # -> Yes\n",
        "#pattern = r\"Tom$\"       # Text có kết thúc bằng Tom hay không\n",
        "\n",
        "my_expression = re.compile(\"is| at\")\n",
        "\n",
        "if my_expression.search(text):\n",
        "  print(\"Yes\")\n",
        "else:\n",
        "  print(\"No\")\n"
      ],
      "metadata": {
        "colab": {
          "base_uri": "https://localhost:8080/"
        },
        "id": "DBXCF3VuPjXv",
        "outputId": "6858cfc8-13d6-4751-e459-7c2958a7e80c"
      },
      "execution_count": null,
      "outputs": [
        {
          "output_type": "stream",
          "name": "stdout",
          "text": [
            "Yes\n"
          ]
        }
      ]
    },
    {
      "cell_type": "code",
      "source": [
        "import re\n",
        "\n",
        "my_regex = re.compile(\"([0-9]+)[^0-9]+([0-9]+)([0-9]+)\")\n",
        "m = my_regex.search(\"Anna is years 15 old 20 Join í 12 years old\")\n",
        "\n",
        "print(m.group(0))\n",
        "print(m.group(1))\n",
        "print(m.group(2))\n"
      ],
      "metadata": {
        "colab": {
          "base_uri": "https://localhost:8080/"
        },
        "id": "2C1YRoN3RED-",
        "outputId": "bfc2ec5f-eb17-423b-c697-dba39c6cfd70"
      },
      "execution_count": null,
      "outputs": [
        {
          "output_type": "stream",
          "name": "stdout",
          "text": [
            "15 old 20\n",
            "15\n",
            "2\n"
          ]
        }
      ]
    },
    {
      "cell_type": "code",
      "source": [
        "import requests as rq\n",
        "res = rq.get(\"https://en.wikipedia.org/wiki/Machine_learning\")\n",
        "print(res.status_code)\n",
        "print(res.text)"
      ],
      "metadata": {
        "id": "BUZqAy62Uy7m"
      },
      "execution_count": null,
      "outputs": []
    },
    {
      "cell_type": "code",
      "source": [
        "my_regex = re.compile(\"(\\D+)((\\d+)\\D(\\d+)\\D+(\\d+))\")\n",
        "\n",
        "m = my_regex.search(\"Join 001-1231-4534 is nice\")\n",
        "print(\"Phone number: \"+m.group(1))\n",
        "print(\"Phone number: \"+m.group(2))"
      ],
      "metadata": {
        "colab": {
          "base_uri": "https://localhost:8080/"
        },
        "id": "XEDUdD-MVb_N",
        "outputId": "a846c1c4-57bb-461b-eec6-2380d5a41036"
      },
      "execution_count": null,
      "outputs": [
        {
          "output_type": "stream",
          "name": "stdout",
          "text": [
            "Phone number: Join \n",
            "Phone number: 001-1231-4534\n"
          ]
        }
      ]
    },
    {
      "cell_type": "code",
      "source": [
        "import re\n",
        "\n",
        "email = \"john@gmail.com\"\n",
        "\n",
        "pattern = r\"[a-zA-Z0-9_.+-]+@[a-zA-Z0-9-]+\\.[a-zA-Z0-9-.]\"\n",
        "\n",
        "if re.match(pattern, email):\n",
        "  print(\"yes\")\n",
        "else:\n",
        "  print(\"No\")"
      ],
      "metadata": {
        "colab": {
          "base_uri": "https://localhost:8080/"
        },
        "id": "vsujMAdnYCC8",
        "outputId": "7ad558ac-a39e-4396-848d-0558a8024133"
      },
      "execution_count": null,
      "outputs": [
        {
          "output_type": "stream",
          "name": "stdout",
          "text": [
            "yes\n"
          ]
        }
      ]
    }
  ]
}